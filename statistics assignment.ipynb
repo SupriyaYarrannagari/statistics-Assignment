{
 "cells": [
  {
   "cell_type": "code",
   "execution_count": 3,
   "id": "36a60025",
   "metadata": {},
   "outputs": [
    {
     "name": "stdout",
     "output_type": "stream",
     "text": [
      "mean: 35.0\n"
     ]
    }
   ],
   "source": [
    "#Q1:Generate a list 100 integers containing values between 90 to 130 and store it in the variable `int_list`. After generating the list, find the following:\n",
    "# (i) Write a Python function to calculate the mean of a given list of numbers.\n",
    "def calculate_mean(numbers):\n",
    "    if not numbers:\n",
    "        return 0\n",
    "    return sum(numbers)/len(numbers)\n",
    "numbers =[10,20,30,40,50,60]\n",
    "mean_value = calculate_mean(numbers)\n",
    "print(\"mean:\",mean_value)"
   ]
  },
  {
   "cell_type": "code",
   "execution_count": 1,
   "id": "b6630b22",
   "metadata": {},
   "outputs": [
    {
     "name": "stdout",
     "output_type": "stream",
     "text": [
      "the median is:3\n"
     ]
    }
   ],
   "source": [
    "#(ii)Create a function to find the median of a list of numbers.\n",
    "def find_median(numbers):\n",
    "    sorted_numbers = sorted(numbers)\n",
    "    n = len(sorted_numbers)\n",
    "    if n % 2 == 1:\n",
    "        median = sorted_numbers[ n//2]\n",
    "    else:\n",
    "        median = (sorted_numbers[( n // 2) - 1] + sorted_numbers[n // 2]) / 2\n",
    "    return median\n",
    "list=[3,5,1,4,2]\n",
    "print(f\"the median is:{find_median(list)}\")"
   ]
  },
  {
   "cell_type": "code",
   "execution_count": 1,
   "id": "d65a00b1",
   "metadata": {},
   "outputs": [
    {
     "name": "stdout",
     "output_type": "stream",
     "text": [
      "mode: [4]\n"
     ]
    }
   ],
   "source": [
    "#(ii) Develop a program to compute the mode of a list of integers\n",
    "from collections import Counter\n",
    "def find_mode(n):\n",
    "    if not n:\n",
    "        return None\n",
    "    frequency= Counter(n)\n",
    "    max_frequency = max(frequency.values())\n",
    "    modes = [number for number,count in frequency.items() if count == max_frequency]\n",
    "    return modes\n",
    "n=[4,1,2,3,2,5,6,4,4,4,5,2]\n",
    "mode = find_mode(n)\n",
    "print(\"mode:\",mode)"
   ]
  },
  {
   "cell_type": "code",
   "execution_count": 2,
   "id": "c326147f",
   "metadata": {},
   "outputs": [
    {
     "name": "stdout",
     "output_type": "stream",
     "text": [
      "Weighted Mean: 3.37\n"
     ]
    }
   ],
   "source": [
    "# (iii) Implement a function to calculate the weighted mean of a list of values and their corresponding weights.\n",
    "def weighted_mean(values, weights):\n",
    "    if len(values) != len(weights):\n",
    "        raise ValueError(\"The length of values and weights must be the same.\")\n",
    "    weighted_sum = sum(value * weight for value, weight in zip(values, weights))\n",
    "    sum_of_weights = sum(weights)\n",
    "    if sum_of_weights == 0:\n",
    "        raise ValueError(\"The sum of weights must not be zero.\")\n",
    "    weighted_mean_value = weighted_sum / sum_of_weights\n",
    "    return weighted_mean_value\n",
    "values = [3.5, 2.1, 4.7, 1.6]\n",
    "weights = [0.2, 0.3, 0.4, 0.1]\n",
    "print(\"Weighted Mean:\", weighted_mean(values, weights))"
   ]
  },
  {
   "cell_type": "code",
   "execution_count": 7,
   "id": "e9fea6b1",
   "metadata": {},
   "outputs": [
    {
     "name": "stdout",
     "output_type": "stream",
     "text": [
      "Geometric Mean: 2.7092962366574977\n"
     ]
    }
   ],
   "source": [
    "#  (iv) Write a Python function to find the geometric mean of a list of positive numbers.\n",
    "import math\n",
    "def geometric_mean(values):\n",
    "    if len(values) == 0:\n",
    "        raise ValueError(\"The list of values must not be empty.\")\n",
    "    if any( v <= 0 for v in values):\n",
    "        raise ValueError(\"All values must be positive.\")\n",
    "    product = 1\n",
    "    for value in values:\n",
    "        product *= value\n",
    "    n = len(values)\n",
    "    geometric_mean_value = math.pow(product,1/n)\n",
    "    return geometric_mean_value\n",
    "values =[1.3,2.3,3.4,5.3]\n",
    "print(\"Geometric Mean:\",geometric_mean(values))\n",
    "        "
   ]
  },
  {
   "cell_type": "code",
   "execution_count": 12,
   "id": "c0a0b9ba",
   "metadata": {},
   "outputs": [
    {
     "name": "stdout",
     "output_type": "stream",
     "text": [
      "Harmonic mean: 2.540322580645161\n"
     ]
    }
   ],
   "source": [
    "#(v) Create a program to calculate the harmonic mean of a list of values.\n",
    "def harmonic_mean(n):\n",
    "    if len(n) == 0:\n",
    "        raise ValueError(\"the list of values must not be empty.\")\n",
    "    if any(v <= 0 for v in n):\n",
    "        raise ValueError(\"all values must be positive and non-zero.\")\n",
    "    reciprocal_sum = sum(1 / value for value in n)\n",
    "    k=len(n)\n",
    "    harmonic_mean_value=k/reciprocal_sum\n",
    "    return harmonic_mean_value\n",
    "n=[1.5,2.5,3.5,4.5]\n",
    "print(\"Harmonic mean:\",harmonic_mean(n))"
   ]
  },
  {
   "cell_type": "code",
   "execution_count": 17,
   "id": "4c76ef11",
   "metadata": {},
   "outputs": [
    {
     "name": "stdout",
     "output_type": "stream",
     "text": [
      "Midrange: 4.0\n"
     ]
    }
   ],
   "source": [
    "#(vi) Build a function to determine the midrange of a list of numbers (average of the minimum and maximum).\n",
    "def midrange(n):\n",
    "    if len(n) == 0:\n",
    "        raise ValueError(\"The list of values must not be empty.\")\n",
    "    min_value=min(n)\n",
    "    max_value=max(n)\n",
    "    midrange_value=(min_value + max_value) / 2\n",
    "    return midrange_value\n",
    "n=[1.5,2.5,3.5,4.5,5.5,6.5]\n",
    "print(\"Midrange:\", midrange(n))"
   ]
  },
  {
   "cell_type": "code",
   "execution_count": 18,
   "id": "1037cdd8",
   "metadata": {},
   "outputs": [
    {
     "name": "stdout",
     "output_type": "stream",
     "text": [
      "Trimmed Mean: 6.0\n"
     ]
    }
   ],
   "source": [
    "#(vii) Implement a Python program to find the trimmed mean of a list, excluding a certain percentage of outliers.\n",
    "def trimmed_mean(n,trim_percent):\n",
    "    if not 0 <= trim_percent <= 50:\n",
    "        raise ValueError(\"Trim percentage must be between 0 and 50.\")\n",
    "    if len(n) == 0:\n",
    "        raise ValueError(\"The lsit of values must not be empty.\")\n",
    "    sorted_values=sorted(n)\n",
    "    k=len(n)\n",
    "    trim_count=int(k*(trim_percent/100))\n",
    "    trimmed_values= sorted_values[trim_count:k-trim_count]\n",
    "    if len(trimmed_values) == 0:\n",
    "        raise ValueError(\"After trimming , no values remain to compute the mean.\")\n",
    "    trimmed_mean_value=sum(trimmed_values) / len(trimmed_values)\n",
    "    return trimmed_mean_value\n",
    "n=[1.5,2.5,3.5,4.5,6.5,5.5,7.5,8.5,9.5,10.5]\n",
    "trim_percent = 10\n",
    "print(\"Trimmed Mean:\",trimmed_mean(n,trim_percent))"
   ]
  },
  {
   "cell_type": "code",
   "execution_count": 3,
   "id": "428a83ad",
   "metadata": {},
   "outputs": [
    {
     "name": "stdout",
     "output_type": "stream",
     "text": [
      "Sample of int_list2. [219, 246, 276, 202, 238, 246, 246, 251, 211, 299]\n"
     ]
    }
   ],
   "source": [
    "#2.Generate a list of 500 integers containing values between 200 to 300 and store it in the variable `int_list2`. After generating the list, find the following:\n",
    "import random\n",
    "int_list2=[random.randint(200,300) for _ in range(500)]\n",
    "print(\"Sample of int_list2.\",int_list2[:10])"
   ]
  },
  {
   "cell_type": "code",
   "execution_count": 4,
   "id": "91427296",
   "metadata": {},
   "outputs": [
    {
     "data": {
      "image/png": "[encoded data removed]",
      "text/plain": [
       "<Figure size 1000x1500 with 3 Axes>"
      ]
     },
     "metadata": {},
     "output_type": "display_data"
    }
   ],
   "source": [
    "#(i) Compare the given list of visualization for the given data:\n",
    "\n",
    "import matplotlib.pyplot as plt\n",
    "import seaborn as sns\n",
    "import numpy as np\n",
    "from scipy.stats import norm\n",
    "fig,axs = plt.subplots(3,1, figsize =(10,15))\n",
    "#1. Frequency & Gaussian distribution  \n",
    "sns.histplot(int_list2,bins= 20,kde=False,ax=axs[0])\n",
    "axs[0].set_title('Frequency Histogram')\n",
    "axs[0].set_xlabel('Values')\n",
    "axs[0].set_ylabel('Frequency')\n",
    "#2. Frequency smoothened KDE plot\n",
    "sns.histplot(int_list2,bins=20,kde = True,ax=axs[1],kde_kws={\"bw_adjust\":0.4})\n",
    "axs[1].set_title(\"Gaussian Distribution(KDE)\")\n",
    "axs[1].set_xlabel('Values')\n",
    "axs[1].set_ylabel('Density')\n",
    "#3. Gaussian distribution & smoothened KDE plot.\n",
    "sns.kdeplot(int_list2,ax=axs[2],fill = True, label='KDE')\n",
    "sns.lineplot(x=np.linspace(200,300,1000),y=norm.pdf(np.linspace(200,300,1000),np.mean(int_list2),np.std(int_list2)),color='red',label='Gaussian Distribution')\n",
    "axs[2].set_title('Gaussian Distribution and KDE plot')\n",
    "axs[2].set_xlabel('Values')\n",
    "axs[2].set_ylabel('Density')\n",
    "axs[2].legend()\n",
    "\n",
    "plt.tight_layout()\n",
    "\n",
    "plt.show()\n"
   ]
  },
  {
   "cell_type": "code",
   "execution_count": 6,
   "id": "c4efa0bc",
   "metadata": {},
   "outputs": [
    {
     "name": "stdout",
     "output_type": "stream",
     "text": [
      "Range: 9.0\n"
     ]
    }
   ],
   "source": [
    "#(ii) Write a Python function to calculate the range of a given list of numbers.\n",
    "def calculate_range(numbers):\n",
    "    if len(numbers) == 0:\n",
    "        raise ValueError(\"the list of numbers must not be empty.\")\n",
    "    min_value=min(numbers)\n",
    "    max_value=max(numbers)\n",
    "    range_value=max_value-min_value\n",
    "    return range_value\n",
    "numbers=[1.5,2.5,3.5,4.5,5.5,6.5,7.5,8.5,9.5,10.5]\n",
    "print(\"Range:\",calculate_range(numbers))"
   ]
  },
  {
   "cell_type": "code",
   "execution_count": 7,
   "id": "641a95e5",
   "metadata": {},
   "outputs": [
    {
     "name": "stdout",
     "output_type": "stream",
     "text": [
      "Variance: 8.25\n",
      "Standard Deviation: 2.8722813232690143\n"
     ]
    }
   ],
   "source": [
    "# (iii) Create a program to find the variance and standard deviation of a list of numbers.\n",
    "import math\n",
    "def calculate_variance(numbers):\n",
    "    if len(numbers) == 0:\n",
    "        raise ValueError(\"The list of numbers must not be empty.\")\n",
    "    mean=sum(numbers) /len(numbers)\n",
    "    variance= sum((x - mean) ** 2 for x in numbers)/ len(numbers)\n",
    "    return variance\n",
    "def calculate_standard_deviation(numbers):\n",
    "    variance= calculate_variance(numbers)\n",
    "    standard_deviation= math.sqrt(variance)\n",
    "    return standard_deviation\n",
    "numbers=[1.5,2.5,3.5,4.5,5.5,6.5,7.5,8.5,9.5,10.5]\n",
    "print(\"Variance:\",calculate_variance(numbers))\n",
    "print(\"Standard Deviation:\",calculate_standard_deviation(numbers))"
   ]
  },
  {
   "cell_type": "code",
   "execution_count": 8,
   "id": "dd5dfcd7",
   "metadata": {},
   "outputs": [
    {
     "name": "stdout",
     "output_type": "stream",
     "text": [
      "Interquartile Range (IQR): 14\n"
     ]
    }
   ],
   "source": [
    "#(iv) Implement a function to compute the interquartile range (IQR) of a list of values.\n",
    "def calculate_iqr(n):\n",
    "    if len(n) == 0:\n",
    "        raise ValueError(\"The list of values must not be empty.\")\n",
    "\n",
    "    sorted_values = sorted(n)\n",
    "    k = len(sorted_values)\n",
    "\n",
    "    q1_index = (k + 1) // 4 - 1\n",
    "    q1 = sorted_values[q1_index]\n",
    "\n",
    "    q3_index = 3 * (k + 1) // 4 - 1\n",
    "    q3 = sorted_values[q3_index]\n",
    "\n",
    "    iqr = q3 - q1\n",
    "    return iqr\n",
    "\n",
    "n = [12, 16, 17, 20, 22, 23, 24, 28, 18, 30, 32, 36, 25, 35, 37, 40]\n",
    "print(\"Interquartile Range (IQR):\", calculate_iqr(n))\n"
   ]
  },
  {
   "cell_type": "code",
   "execution_count": 9,
   "id": "ebf9727a",
   "metadata": {},
   "outputs": [
    {
     "name": "stdout",
     "output_type": "stream",
     "text": [
      "mean value: 250.016\n",
      "std deviation: 29.780391938320758\n",
      "coefficient of variance: 59.55697223041877\n"
     ]
    }
   ],
   "source": [
    "# (v) Build a program to calculate the coefficient of variation for a dataset.\n",
    "import random\n",
    "import numpy as np\n",
    "list= [random.randint(200,300) for _ in range(500)]\n",
    "mean_value=np.mean(list)\n",
    "std_deviation=np.std(list)\n",
    "coefficient_of_variance=(std_deviation / mean_value) * 500\n",
    "print(\"mean value:\",mean_value)\n",
    "print(\"std deviation:\",std_deviation)\n",
    "print(\"coefficient of variance:\",coefficient_of_variance)"
   ]
  },
  {
   "cell_type": "code",
   "execution_count": 12,
   "id": "c5f87d26",
   "metadata": {},
   "outputs": [
    {
     "data": {
      "text/plain": [
       "25.732576"
      ]
     },
     "execution_count": 12,
     "metadata": {},
     "output_type": "execute_result"
    }
   ],
   "source": [
    "# (vi) Write a Python function to find the mean absolute deviation (MAD) of a list of numbers.\n",
    "def mean_absolute_deviation(numbers):\n",
    "    mean_value=np.mean(numbers)\n",
    "    absolute_deviation = [abs(x - mean_value) for x in numbers]\n",
    "    mad=np.mean(absolute_deviation)\n",
    "    return mad\n",
    "mad_value=mean_absolute_deviation(list)\n",
    "mad_value"
   ]
  },
  {
   "cell_type": "code",
   "execution_count": 2,
   "id": "dd945696",
   "metadata": {},
   "outputs": [
    {
     "name": "stdout",
     "output_type": "stream",
     "text": [
      "Quadratic deviation of list : 24.0\n"
     ]
    }
   ],
   "source": [
    "# (vii) Create a program to calculate the quartile deviation of a list of values.\n",
    "import random\n",
    "list =[random.randint(200,300) for i in range(500)]\n",
    "def quartile_deviation(data):\n",
    "    if len(data) < 4:\n",
    "        raise ValueError(\"List must contain at least 4 elements\")\n",
    "    data.sort()\n",
    "    q1 = data[int(len(data) * 0.25)]\n",
    "    q3 = data[int(len(data) * 0.75)]\n",
    "    quartile_dev = (q3-q1) / 2\n",
    "    return quartile_dev\n",
    "quartile_dev =quartile_deviation(list)\n",
    "print(\"Quadratic deviation of list :\",quartile_dev)"
   ]
  },
  {
   "cell_type": "code",
   "execution_count": 5,
   "id": "5cb9b63e",
   "metadata": {},
   "outputs": [
    {
     "name": "stdout",
     "output_type": "stream",
     "text": [
      "Range-Based Coefficient of Dispersion: 0.2\n"
     ]
    }
   ],
   "source": [
    "#(viii) Implement a function to find the range-based coefficient of dispersion for a dataset.\n",
    "def range_based_coefficient_dispersion(data):\n",
    "    if len(data) < 2:\n",
    "        raise ValueError(\"list must contain at least 2 elements\")\n",
    "    minimum = min(data)\n",
    "    maximum = max(data)\n",
    "    coefficient = (maximum-minimum) / (maximum + minimum)\n",
    "    return coefficient\n",
    "\n",
    "coefficient= range_based_coefficient_dispersion(list)\n",
    "print(\"Range-Based Coefficient of Dispersion:\", coefficient)"
   ]
  },
  {
   "cell_type": "code",
   "execution_count": 8,
   "id": "fa33a9a8",
   "metadata": {},
   "outputs": [
    {
     "name": "stdout",
     "output_type": "stream",
     "text": [
      "Expected Value: 2.45\n",
      "Variance: 1.1475\n"
     ]
    }
   ],
   "source": [
    "#3.Write a Python class representing a discrete random variable with methods to calculate its expected value and variance.\n",
    "class DiscreteRandomVariable:\n",
    "    def __init__(self, values, probabilities):\n",
    "        if len(values) != len(probabilities):\n",
    "            raise ValueError(\"Length of values and probabilities must be equal\")\n",
    "        self.values = values\n",
    "        self.probabilities = probabilities\n",
    "    def expected_value(self):\n",
    "        if len(self.values) == 0:\n",
    "            raise ValueError(\"Random variable must have at least one value\")\n",
    "        expected_value = 0\n",
    "        for i in range(len(self.values)):\n",
    "            expected_value += self.values[i] * self.probabilities[i]\n",
    "        return expected_value\n",
    "    def variance(self):\n",
    "        if len(self.values) == 0:\n",
    "            raise ValueError(\"Random variable must have at least one value\")\n",
    "        expected_value = self.expected_value()\n",
    "        variance = 0\n",
    "        for i in range(len(self.values)):\n",
    "            variance += (self.values[i] - expected_value) ** 2 * self.probabilities[i]\n",
    "        return variance\n",
    "values = [1, 2, 3, 4]\n",
    "probabilities = [0.25, 0.25, 0.3, 0.2]\n",
    "random_variable = DiscreteRandomVariable(values, probabilities)\n",
    "mean = random_variable.expected_value()\n",
    "var = random_variable.variance()\n",
    "print(\"Expected Value:\", mean)\n",
    "print(\"Variance:\", var)"
   ]
  },
  {
   "cell_type": "code",
   "execution_count": 10,
   "id": "34b42def",
   "metadata": {},
   "outputs": [
    {
     "name": "stdout",
     "output_type": "stream",
     "text": [
      "expected value: 1.0\n",
      "variance: 44.077\n"
     ]
    }
   ],
   "source": [
    "#4) Implement a program to simulate the rolling of a pair six-sided die and calculate the expected value and variance of the outcomes.\n",
    "import random\n",
    "def roll_dice():\n",
    "    return random.randint(1,6) +random.randint(1,6)\n",
    "def simulate_rolls(num_rolls):\n",
    "    outcomes = []\n",
    "    for i in range(num_rolls):\n",
    "        outcomes.append(roll_dice())\n",
    "    return outcomes\n",
    "def calculate_expected_value(outcomes):\n",
    "    total_sum=sum(outcomes)\n",
    "    return total_sum/sum(outcomes)\n",
    "def calculate_variance(outcomes,expected_value):\n",
    "    variance = 0\n",
    "    for outcome in outcomes:\n",
    "        variance += (outcome - expected_value) ** 2\n",
    "    return variance / len(outcomes)\n",
    "num_rolls = 1000\n",
    "outcomes = simulate_rolls(num_rolls)\n",
    "expected_value = calculate_expected_value(outcomes)\n",
    "variance = calculate_variance(outcomes,expected_value)\n",
    "print(\"expected value:\",expected_value)\n",
    "print(\"variance:\",variance)\n",
    "    "
   ]
  },
  {
   "cell_type": "code",
   "execution_count": 15,
   "id": "4b740d93",
   "metadata": {},
   "outputs": [
    {
     "name": "stdout",
     "output_type": "stream",
     "text": [
      "generated 1000 samples from binomial distribution\n",
      "mean: 2.98\n",
      "variance:2.09\n"
     ]
    }
   ],
   "source": [
    "#5)Create a Python 6unction to generate random samples from a given probability distribution (e.g., binomial, Poisson) and calculate their mean and variance.\n",
    "import numpy as np\n",
    "\n",
    "def generate_samples_and_stats(distribution,params,num_samples):\n",
    "    if distribution == \"binomial\":\n",
    "        n = params[\"n\"]\n",
    "        p = params[\"p\"]\n",
    "        samples = np.random.binomial(n,p,num_samples)\n",
    "    elif distribution == \"poisson\":\n",
    "        lam = params[\"lam\"]\n",
    "        samples = np.random.poisson(lam,num_samples)\n",
    "    else:\n",
    "        raise ValueError(f\"unsupported distribution: {distribution}\")\n",
    "    mean = np.mean(samples)\n",
    "    variance = np.var(samples)\n",
    "    return samples, mean, variance\n",
    "distribution = \"binomial\"\n",
    "params={\"n\": 10,\"p\" : 0.3}\n",
    "num_samples = 1000\n",
    "samples,mean,variance = generate_samples_and_stats(distribution,params,num_samples)\n",
    "print(f\"generated {num_samples} samples from {distribution} distribution\")\n",
    "print(f\"mean: {mean :.2f}\")\n",
    "print(f\"variance:{variance:.2f}\")\n",
    "        "
   ]
  },
  {
   "cell_type": "code",
   "execution_count": 19,
   "id": "c1ad7de3",
   "metadata": {},
   "outputs": [
    {
     "name": "stdout",
     "output_type": "stream",
     "text": [
      "generated 1000 random samples from a gaussian distribution\n",
      "  - mean(expected value): 50.67\n",
      "  - variance: 92.27\n",
      "  - standard deviation: 9.61\n"
     ]
    }
   ],
   "source": [
    "#6) Write a Python script to generate random numbers from a Gaussian (normal) distribution and compute the mean, variance, and standard deviation of the samples.\n",
    "import numpy as np\n",
    "mean = 50\n",
    "std_dev = 10\n",
    "num_samples = 1000\n",
    "samples = np.random.normal(loc=mean, scale = std_dev, size = num_samples)\n",
    "actual_mean = np.mean(samples)\n",
    "variance = np.var(samples)\n",
    "standard_deviation = np.std(samples)\n",
    "print(f\"generated {num_samples} random samples from a gaussian distribution\")\n",
    "print(f\"  - mean(expected value): {actual_mean:.2f}\")\n",
    "print(f\"  - variance: {variance:.2f}\")\n",
    "print(f\"  - standard deviation: {standard_deviation:.2f}\")\n"
   ]
  },
  {
   "cell_type": "code",
   "execution_count": 22,
   "id": "615f0f06",
   "metadata": {},
   "outputs": [
    {
     "name": "stdout",
     "output_type": "stream",
     "text": [
      "skewness of total_bill: 1.13\n",
      "skewness of tip: 1.47\n"
     ]
    },
    {
     "data": {
      "text/plain": [
       "1.4654510370979401"
      ]
     },
     "execution_count": 22,
     "metadata": {},
     "output_type": "execute_result"
    }
   ],
   "source": [
    "#7) Use seaborn library to load tips dataset. Find the following 6rom the dataset for the columns total_bill and tip`:\n",
    "\n",
    "#(i) Write a Python function that calculates their skewness.\n",
    "import seaborn as sns\n",
    "import pandas as pd\n",
    "tips = sns.load_dataset(\"tips\")\n",
    "def calculate_skewness(data, column_name):\n",
    "    skewness = data[column_name].skew()\n",
    "    print(f\"skewness of {column_name}: {skewness:.2f}\")\n",
    "    return skewness\n",
    "calculate_skewness(tips.copy(),\"total_bill\")\n",
    "calculate_skewness(tips.copy(),\"tip\")\n"
   ]
  },
  {
   "cell_type": "code",
   "execution_count": 30,
   "id": "2d9fee62",
   "metadata": {},
   "outputs": [
    {
     "name": "stdout",
     "output_type": "stream",
     "text": [
      "sex is a categorical column and doesn't have skewness.\n",
      "smoker is a categorical column and doesn't have skewness.\n",
      "day is a categorical column and doesn't have skewness.\n",
      "time is a categorical column and doesn't have skewness.\n"
     ]
    }
   ],
   "source": [
    "# (ii)Create a program that determines whether the columns exhibit positive skewness, negative skewness, or is approximately symmetric.\n",
    "import seaborn as sns\n",
    "import pandas as pd\n",
    "def calculate_skewness(data,column_name):\n",
    "    skewness = data[column_name].skew()\n",
    "    skewness_type = \"approximately symmetric\"\n",
    "    if skewness > 0:\n",
    "        skewness_type = \"positive skewness\"\n",
    "    elif skewness < 0:\n",
    "        skewness_type = \"Negative skewness\"\n",
    "    elif skewness < -0.5:\n",
    "        skewness_type = \"strongly negative skewness\"\n",
    "    elif skewness < 0:\n",
    "        skewness_type = \"negative skewness\"\n",
    "    else:\n",
    "        print(f\"skewness of {column_name} :{skewness:.2f} ({skewness_type})\")\n",
    "for col in tips.columns:\n",
    "    if pd.api.types.is_numeric_dtype(tips[col]):\n",
    "        calculate_skewness(tips.copy(), col)\n",
    "    else:\n",
    "        print(f\"{col} is a categorical column and doesn't have skewness.\")"
   ]
  },
  {
   "cell_type": "code",
   "execution_count": 31,
   "id": "b40a1d1c",
   "metadata": {},
   "outputs": [
    {
     "name": "stdout",
     "output_type": "stream",
     "text": [
      "covarince between total_bill and tip: 8.32\n"
     ]
    },
    {
     "data": {
      "text/plain": [
       "8.323501629224854"
      ]
     },
     "execution_count": 31,
     "metadata": {},
     "output_type": "execute_result"
    }
   ],
   "source": [
    "# (iii) Write a function that calculates the covariance between two columns.\n",
    "import seaborn as sns\n",
    "import pandas as pd\n",
    "def calculate_covariance(data,col1,col2):\n",
    "    covariance = data[col1].cov(data[col2])\n",
    "    print(f\"covarince between {col1} and {col2}: {covariance:.2f}\")\n",
    "    return covariance\n",
    "tips = sns.load_dataset(\"tips\")\n",
    "calculate_covariance(tips.copy(),\"total_bill\",\"tip\")"
   ]
  },
  {
   "cell_type": "code",
   "execution_count": 33,
   "id": "7a04dc52",
   "metadata": {},
   "outputs": [
    {
     "name": "stdout",
     "output_type": "stream",
     "text": [
      "pearson correlation coefficient between total_bill and tip: 0.68\n"
     ]
    }
   ],
   "source": [
    "# (iv) Implement a Python program that calculates the Pearson correlation coefficient between two columns.\n",
    "import seaborn as sns\n",
    "import pandas as pd\n",
    "def calculate_correlation(data, col1, col2):\n",
    "    correlation = data[col1].corr(data[col2])\n",
    "    print(f\"pearson correlation coefficient between {col1} and {col2}: { correlation:.2f}\")\n",
    "tips = sns.load_dataset(\"tips\")\n",
    "calculate_correlation(tips, \"total_bill\", \"tip\")"
   ]
  },
  {
   "cell_type": "code",
   "execution_count": 34,
   "id": "27693ce5",
   "metadata": {},
   "outputs": [
    {
     "data": {
      "image/png": "[encoded data removed]",
      "text/plain": [
       "<Figure size 800x600 with 1 Axes>"
      ]
     },
     "metadata": {},
     "output_type": "display_data"
    }
   ],
   "source": [
    "# (v) Write a script to visualize the correlation between two specific columns on a Pandas DataFrame using scatter plots.\n",
    "import seaborn as sns\n",
    "import pandas as pd\n",
    "import matplotlib.pyplot as plt\n",
    "\n",
    "def visualize_correlation(data, col1, col2, title):\n",
    "    plt.figure(figsize =(8,6))\n",
    "    sns.scatterplot(x=col1,y=col2,data = data)\n",
    "    plt.title(title)\n",
    "    plt.xlabel(col1)\n",
    "    plt.ylabel(col2)\n",
    "    plt.grid(True)\n",
    "    plt.show()\n",
    "tips = sns.load_dataset(\"tips\")\n",
    "col1 = \"total_bill\"\n",
    "col2 = \"tip\"\n",
    "title = f\"correlation between {col1} and {col2}\"\n",
    "\n",
    "visualize_correlation(tips,col1,col2,title)"
   ]
  },
  {
   "cell_type": "code",
   "execution_count": 38,
   "id": "fefb040d",
   "metadata": {},
   "outputs": [
    {
     "name": "stdout",
     "output_type": "stream",
     "text": [
      " x of 20 for a normal distribution with mean 50 and standard deviation 10.00: 0.0004\n"
     ]
    }
   ],
   "source": [
    "#8)Write a Python function to calculate the probability density function (PDF) of a continuous random variable for a given normal distribution.\n",
    "import math\n",
    "def calculate_normal_pdf(x,mean,std_dev):\n",
    "    constant = 1/(std_dev * math.sqrt(2 * math.pi))\n",
    "    exponent = -((x -mean) ** 2) / (2 * std_dev **2)\n",
    "    return constant * math.exp(exponent)\n",
    "mean = 50\n",
    "std_dev = 10\n",
    "x_value = 20\n",
    "x=calculate_normal_pdf(x_value,mean,std_dev)\n",
    "print(f\" x of {x_value} for a normal distribution with mean {mean} and standard deviation {std_dev:.2f}: {x:.4f}\")"
   ]
  },
  {
   "cell_type": "code",
   "execution_count": 40,
   "id": "f8b87993",
   "metadata": {},
   "outputs": [
    {
     "name": "stdout",
     "output_type": "stream",
     "text": [
      "CDF of 5 for an exponential distribution with lambda 0.20:0.6321\n"
     ]
    }
   ],
   "source": [
    "#9)Create a program to calculate the cumulative distribution function (CDF) of exponential distribution.\n",
    "import math\n",
    "def calculate_cdf_exponential(x,lambda_param):\n",
    "    if x < 0:\n",
    "        return 0\n",
    "    else:\n",
    "        return 1 - math.exp(-lambda_param * x)\n",
    "lambda_param = 0.2\n",
    "value= 5\n",
    "cdf = calculate_cdf_exponential(value,lambda_param)\n",
    "print(f\"CDF of {value} for an exponential distribution with lambda {lambda_param:.2f}:{cdf:.4f}\")"
   ]
  },
  {
   "cell_type": "code",
   "execution_count": 54,
   "id": "484f1e5e",
   "metadata": {},
   "outputs": [
    {
     "name": "stdout",
     "output_type": "stream",
     "text": [
      "PMF of 2 events for a Poisson distribution with lambda 3.00: 0.2240\n"
     ]
    }
   ],
   "source": [
    "#10) Write a Python function to calculate the probability mass function (PMF) of Poisson distribution.\n",
    "from scipy.stats import poisson\n",
    "def calculate_pmf_poisson(k, lam):\n",
    "    if not isinstance(k, int) or k < 0:\n",
    "        raise ValueError(\"k must be a non-negative integer.\")\n",
    "    return poisson.pmf(k, lam)\n",
    "lam = 3  \n",
    "k_value = 2  \n",
    "pmf = calculate_pmf_poisson(k_value, lam)\n",
    "print(f\"PMF of {k_value} events for a Poisson distribution with lambda {lam:.2f}: {pmf:.4f}\")\n"
   ]
  },
  {
   "cell_type": "code",
   "execution_count": 56,
   "id": "178e1d0c",
   "metadata": {},
   "outputs": [
    {
     "data": {
      "text/plain": [
       "'To generate the data use the following command:\\n```python\\nimport numpy as np\\n# 50 purchases out of 1000 visitors\\nold_layout = np.array([1] * 50 + [0] * 950)\\n# 70 purchases out of 1000 visitors  \\nfew_layout = np.array([1] * 70 + [0] * 930)```\\nApply z-test to find which layout is successful'"
      ]
     },
     "execution_count": 56,
     "metadata": {},
     "output_type": "execute_result"
    }
   ],
   "source": [
    "#11)company wants to test if a new website layout leads to a higher conversion rate (percentage oN visitors who make a purchase). They collect data from the old and new layouts to compare.\n",
    "\"\"\"To generate the data use the following command:\n",
    "```python\n",
    "import numpy as np\n",
    "# 50 purchases out of 1000 visitors\n",
    "old_layout = np.array([1] * 50 + [0] * 950)\n",
    "# 70 purchases out of 1000 visitors  \n",
    "few_layout = np.array([1] * 70 + [0] * 930)```\n",
    "Apply z-test to find which layout is successful\"\"\""
   ]
  },
  {
   "cell_type": "code",
   "execution_count": 60,
   "id": "24d02c40",
   "metadata": {},
   "outputs": [
    {
     "name": "stdout",
     "output_type": "stream",
     "text": [
      "The t-test result (p-value: 0.0597) does not show a statistically significant difference at the 5% significance level. We cannot conclude definitively which layout is better based on this data.\n"
     ]
    }
   ],
   "source": [
    "import numpy as np\n",
    "from scipy.stats import ttest_ind  \n",
    "old_layout = np.array([1] * 50 + [0] * 950)\n",
    "new_layout = np.array([1] * 70 + [0] * 930)\n",
    "old_conversion_rate = np.mean(old_layout)\n",
    "new_conversion_rate = np.mean(new_layout)\n",
    "old_sample_size = len(old_layout)\n",
    "new_sample_size = len(new_layout)\n",
    "pooled_var = np.var(np.concatenate((old_layout, new_layout)), ddof=1) \n",
    "t_statistic, p_value = ttest_ind(old_layout, new_layout, equal_var=True)\n",
    "alpha = 0.05\n",
    "if p_value < alpha:\n",
    "    print(f\"The t-test result (p-value: {p_value:.4f}) suggests a statistically significant difference in conversion rates. The new layout appears to be more successful.\")\n",
    "else:\n",
    "    print(f\"The t-test result (p-value: {p_value:.4f}) does not show a statistically significant difference at the {alpha*100:.0f}% significance level. We cannot conclude definitively which layout is better based on this data.\")\n"
   ]
  },
  {
   "cell_type": "code",
   "execution_count": null,
   "id": "3556cc96",
   "metadata": {},
   "outputs": [],
   "source": [
    "#12) A tutoring service claims that its program improves students' exam scores. A sample of students who participated in the program was taken, and their scores before and aNter the program were recorded.\n",
    "Use the below code to generate samples of respective arrays of marks:\n",
    "```python\n",
    "before_program = np.array([75, 80, 85, 70, 90, 78, 92, 88, 82, 87])\n",
    "after_program = np.array([80, 85, 90, 80, 92, 80, 95, 90, 85, 88])\n",
    "```\n",
    "Use z-test to find if the claims made by tutor are true or false."
   ]
  },
  {
   "cell_type": "code",
   "execution_count": 61,
   "id": "b7313a1e",
   "metadata": {},
   "outputs": [
    {
     "name": "stdout",
     "output_type": "stream",
     "text": [
      "the paired t-test result (p-value:0.0013) suggests a statistically significant difference in scores afer the program. this supports the tutor's claim of improvement.\n"
     ]
    }
   ],
   "source": [
    "import numpy as np\n",
    "from scipy.stats import ttest_rel\n",
    "before_program = np.array([75, 80, 85, 70, 90, 78, 92, 88, 82, 87])\n",
    "after_program = np.array([80, 85, 90, 80, 92, 80, 95, 90, 85, 88])\n",
    "score_difference = after_program - before_program\n",
    "t_statistic, p_value = ttest_rel(before_program,after_program)\n",
    "alpha = 0.05\n",
    "if p_value < alpha:\n",
    "    print(f\"the paired t-test result (p-value:{p_value:.4f}) suggests a statistically significant difference in scores afer the program. this supports the tutor's claim of improvement.\")\n",
    "else:\n",
    "    print(f\"the paired t-test result (p-value :{p_value:.4f}) does not show a stastiscally significant difference at the {alpha*100:.0f}% significance level. we cannot definitively confirm or reject the tutor's claim based on this data.\")"
   ]
  },
  {
   "cell_type": "code",
   "execution_count": null,
   "id": "605b1a3b",
   "metadata": {},
   "outputs": [],
   "source": [
    "#13) A pharmaceutical company wants to determine if a new drug is effective in reducing blood pressure. They conduct a study and record blood pressure measurements before and after administering the drug.\n",
    "Use the below code to generate samples of respective arrays of blood pressure:\n",
    "```python\n",
    "before_drug = np.array([145, 150, 140, 135, 155, 160, 152, 148, 130, 138])\n",
    "after_drug = np.array([130, 140, 132, 128, 145, 148, 138, 136, 125, 130])\n",
    "  ```\n",
    "Implement z-test to find if the drug really works or not."
   ]
  },
  {
   "cell_type": "code",
   "execution_count": 62,
   "id": "7771122a",
   "metadata": {},
   "outputs": [
    {
     "name": "stdout",
     "output_type": "stream",
     "text": [
      "the paired t-test result (p-value:0.0000) suggests a statistically significant decrease in blood pressure afer the drug.this supports the claimthat the drug may be effective.\n"
     ]
    }
   ],
   "source": [
    "import numpy as np\n",
    "from scipy.stats import ttest_rel\n",
    "before_drug = np.array([145, 150, 140, 135, 155, 160, 152, 148, 130, 138])\n",
    "after_drug = np.array([130, 140, 132, 128, 145, 148, 138, 136, 125, 130])\n",
    "pressure_difference = before_drug - after_drug\n",
    "t_statistic, p_value = ttest_rel(before_drug,after_drug)\n",
    "alpha = 0.05\n",
    "if p_value < alpha:\n",
    "    print(f\"the paired t-test result (p-value:{p_value:.4f}) suggests a statistically significant decrease in blood pressure afer the drug.this supports the claimthat the drug may be effective.\")\n",
    "else:\n",
    "    print(f\"the paired t-test result (p-value :{p_value:.4f}) does not show a stastiscally significant difference at the {alpha*100:.0f}% significance level. we cannot definitively confirm or reject the drugs effectiveness based on this data.\")"
   ]
  },
  {
   "cell_type": "code",
   "execution_count": null,
   "id": "5b55bbc0",
   "metadata": {},
   "outputs": [],
   "source": [
    "#14 )A customer service department claims that their average response time is less than 5 minutesV A sample of recent customer interactions was taken, and the response times were recorded.\n",
    "Implement the below code to generate the array of response time:\n",
    "```python\n",
    "response_times = np.array([4.3, 3.8, 5.1, 4.9, 4.7, 4.2, 5.2, 4.5, 4.6, 4.4])\n",
    "``'\n",
    "Implement z-test to find the claims made by customer service department are true or false."
   ]
  },
  {
   "cell_type": "code",
   "execution_count": 68,
   "id": "22a577e4",
   "metadata": {},
   "outputs": [
    {
     "name": "stdout",
     "output_type": "stream",
     "text": [
      "The one-tailed t-test result (p-value: nan) does not provide enough evidence to reject the null hypothesis at the 5% significance level. We cannot definitively confirm or reject the claim based on this data.\n"
     ]
    },
    {
     "name": "stderr",
     "output_type": "stream",
     "text": [
      "C:\\Users\\krish\\AppData\\Local\\Temp\\ipykernel_41368\\1013704475.py:8: RuntimeWarning: Precision loss occurred in moment calculation due to catastrophic cancellation. This occurs when the data are nearly identical. Results may be unreliable.\n",
      "  t_statistic, p_value = ttest_ind(response_times, hypothesized_mean, alternative='less')\n"
     ]
    }
   ],
   "source": [
    "import numpy as np\n",
    "from scipy.stats import ttest_ind \n",
    "response_times = np.array([4.3, 3.8, 5.1, 4.9, 4.7, 4.2, 5.2, 4.5, 4.6, 4.4])\n",
    "hypothesized_mean = 5\n",
    "sample_mean = np.mean(response_times)\n",
    "std_dev = 0.5  \n",
    "n = len(response_times)\n",
    "t_statistic, p_value = ttest_ind(response_times, hypothesized_mean, alternative='less')\n",
    "alpha = 0.05\n",
    "if p_value < alpha:\n",
    "    print(f\"The one-tailed t-test result (p-value: {p_value:.4f}) suggests a statistically significant difference. There is evidence to support the customer service department's claim that the average response time is less than 5 minutes.\")\n",
    "else:\n",
    "    print(f\"The one-tailed t-test result (p-value: {p_value:.4f}) does not provide enough evidence to reject the null hypothesis at the {alpha*100:.0f}% significance level. We cannot definitively confirm or reject the claim based on this data.\")\n"
   ]
  },
  {
   "cell_type": "code",
   "execution_count": null,
   "id": "0fdffff5",
   "metadata": {},
   "outputs": [],
   "source": [
    "#15) A company is testing two different website layouts to see which one leads to higher click-through rates.\n",
    "Write a Python function to perform an A/B test analysis, including calculating the t-statistic, degrees of \n",
    "freedom, and p-value.\n",
    "Use the following data:\n",
    "```python\n",
    "layout_a_clicks = [28, 32, 33, 29, 31, 34, 30, 35, 36, 37]\n",
    "\n",
    "layout_b_clicks = [40, 41, 38, 42, 39, 44, 43, 41, 45, 47]"
   ]
  },
  {
   "cell_type": "code",
   "execution_count": 69,
   "id": "47c50a88",
   "metadata": {},
   "outputs": [
    {
     "name": "stdout",
     "output_type": "stream",
     "text": [
      "t-statistic: -7.2981\n",
      "Degrees of freedom: 18\n",
      "p-value: 0.0000\n"
     ]
    }
   ],
   "source": [
    "import numpy as np\n",
    "from scipy.stats import ttest_ind\n",
    "def perform_ab_test(layout_a_clicks, layout_b_clicks):\n",
    "    layout_a_clicks = np.array(layout_a_clicks)\n",
    "    layout_b_clicks = np.array(layout_b_clicks)\n",
    "    if len(layout_a_clicks) != len(layout_b_clicks):\n",
    "        t_statistic, p_value = ttest_ind(layout_a_clicks, layout_b_clicks, equal_var=False)\n",
    "        degrees_of_freedom = np.inf  \n",
    "    else:\n",
    "        pooled_var = np.var(np.concatenate((layout_a_clicks, layout_b_clicks)), ddof=1)\n",
    "        t_statistic, p_value = ttest_ind(layout_a_clicks, layout_b_clicks, equal_var=True)\n",
    "        degrees_of_freedom = len(layout_a_clicks) + len(layout_b_clicks) - 2\n",
    "    return t_statistic, degrees_of_freedom, p_value\n",
    "layout_a_clicks = [28, 32, 33, 29, 31, 34, 30, 35, 36, 37]\n",
    "layout_b_clicks = [40, 41, 38, 42, 39, 44, 43, 41, 45, 47]\n",
    "t_statistic, degrees_of_freedom, p_value = perform_ab_test(layout_a_clicks, layout_b_clicks)\n",
    "print(f\"t-statistic: {t_statistic:.4f}\")\n",
    "print(f\"Degrees of freedom: {degrees_of_freedom}\")\n",
    "print(f\"p-value: {p_value:.4f}\")"
   ]
  },
  {
   "cell_type": "code",
   "execution_count": null,
   "id": "9149b3d5",
   "metadata": {},
   "outputs": [],
   "source": [
    "#16) A pharmaceutical company wants to determine if a new drug is more effective than an existing drug in reducing cholesterol levels Create a program to analyze the clinical trial data and calculate the to statistic and p-value for the treat:ent effect.\n",
    "Use the following data of cholestrol level:\n",
    "```python\n",
    "\n",
    "existing_drug_levels = [180, 182, 175, 185, 178, 176, 172, 184, 179, 183]\n",
    "\n",
    "new_drug_levels = [170, 172, 165, 168, 175, 173, 170, 178, 172, 176]\n",
    "'''"
   ]
  },
  {
   "cell_type": "code",
   "execution_count": 72,
   "id": "77cc6ae1",
   "metadata": {},
   "outputs": [
    {
     "name": "stdout",
     "output_type": "stream",
     "text": [
      "t-statistics:4.1405\n",
      "p-value:0.0006\n",
      "new drug appears to be more effective.\n"
     ]
    }
   ],
   "source": [
    "import numpy as np\n",
    "from scipy.stats import ttest_ind\n",
    "existing = np.array([180, 182, 175, 185, 178, 176, 172, 184, 179, 183])\n",
    "new=np.array([170, 172, 165, 168, 175, 173, 170, 178, 172, 176])\n",
    "t,p=ttest_ind(existing,new,equal_var=len(existing) == (len(new)))\n",
    "print(f\"t-statistics:{t:.4f}\")\n",
    "print(f\"p-value:{p:.4f}\")\n",
    "if p< 0.05:\n",
    "    print(\"new drug appears to be more effective.\")\n",
    "else:\n",
    "    print(\"Not enough evidence to conclude new drug is more effective\")"
   ]
  },
  {
   "cell_type": "code",
   "execution_count": null,
   "id": "f8323470",
   "metadata": {},
   "outputs": [],
   "source": [
    "#17) A school district introduces an educational intervention program to improve math scoresV Write a Python function to analyze pre- and post-intervention test scores, calculating the t-statistic and p-value to determine if the intervention had a significant impact.\n",
    "Use the following data of test score:\n",
    "```python\n",
    "pre_intervention_scores = [80, 85, 90, 75, 88, 82, 92, 78, 85, 87]\n",
    "post_intervention_scores = [90, 92, 88, 92, 95, 91, 96, 93, 89, 93]"
   ]
  },
  {
   "cell_type": "code",
   "execution_count": 73,
   "id": "5cd9e5c4",
   "metadata": {},
   "outputs": [
    {
     "name": "stdout",
     "output_type": "stream",
     "text": [
      "t-statistic: -4.0804\n",
      "p-value: 0.0007\n",
      "The intervention appears to have a significant positive impact (p < 0.05).\n"
     ]
    }
   ],
   "source": [
    "import numpy as np\n",
    "from scipy.stats import ttest_ind\n",
    "pre_scores = np.array([80, 85, 90, 75, 88, 82, 92, 78, 85, 87])\n",
    "post_scores = np.array([90, 92, 88, 92, 95, 91, 96, 93, 89, 93])\n",
    "t_statistic, p_value = ttest_ind(pre_scores, post_scores)\n",
    "print(\"t-statistic:\", t_statistic.round(4))  \n",
    "print(\"p-value:\", p_value.round(4))\n",
    "if p_value < 0.05:  \n",
    "    print(\"The intervention appears to have a significant positive impact (p < 0.05).\")\n",
    "else:\n",
    "    print(\"There is not enough evidence to conclude a significant impact based on p-value.\")"
   ]
  },
  {
   "cell_type": "code",
   "execution_count": null,
   "id": "c5c28127",
   "metadata": {},
   "outputs": [],
   "source": [
    "#18) An HR department wants to investigate if there's a gender-based salary gap within the company. Develop \n",
    "a program to analyze salary data, calculate the t-statistic, and determine in there's a statistically \n",
    "significant difference between the average salaries of male and female employees.\n",
    "Use the below code to generate synthetic dataY\n",
    "```python\n",
    "# Generate synthetic salary data for male and female employees\n",
    "np.random.seed(0)  # For reproducibility\n",
    "male_salaries = np.random.normal(loc=50000, scale=10000, size=20)\n",
    "female_salaries = np.random.normal(loc=55000, scale=9000, size=20)"
   ]
  },
  {
   "cell_type": "code",
   "execution_count": 74,
   "id": "398ea9cf",
   "metadata": {},
   "outputs": [
    {
     "name": "stdout",
     "output_type": "stream",
     "text": [
      "t-statistic: 0.0611\n",
      "p-value: 0.9516\n",
      "Not enough evidence to conclude a significant difference in average salaries based on p-value.\n"
     ]
    }
   ],
   "source": [
    "import numpy as np\n",
    "from scipy.stats import ttest_ind\n",
    "np.random.seed(0)\n",
    "male_salaries = np.random.normal(loc=50000, scale=10000, size=20)\n",
    "female_salaries = np.random.normal(loc=55000, scale=9000, size=20)\n",
    "t_statistic, p_value = ttest_ind(male_salaries, female_salaries)\n",
    "print(\"t-statistic:\", t_statistic.round(4))\n",
    "print(\"p-value:\", p_value.round(4))\n",
    "if p_value < 0.05: \n",
    "    print(\"Significant difference found (p < 0.05). Investigate potential gender pay gap.\")\n",
    "else:\n",
    "    print(\"Not enough evidence to conclude a significant difference in average salaries based on p-value.\")"
   ]
  },
  {
   "cell_type": "code",
   "execution_count": null,
   "id": "32aa2431",
   "metadata": {},
   "outputs": [],
   "source": [
    "#19) A manufacturer produces two diffrent versions of a product and wants to compare their quality scores. \n",
    "Create a Python function to analyze quality assessment data, calculate the t-statistic, and decide \n",
    "whether there's a signi@icant difference in quality between the two versions.\n",
    "Use the following dataY\n",
    "```python\n",
    "version1_scores = [85, 88, 82, 89, 87, 84, 90, 88, 85, 86, 91, 83, 87, 84, 89, 86, 84, 88, 85, 86, 89, 90, 87, 88, 85]\n",
    "version2_scores = [80, 78, 83, 81, 79, 82, 76, 80, 78, 81, 77, 82, 80, 79, 82, 79, 80, 81, 79, 82, 79, 78, 80, 81, 82]"
   ]
  },
  {
   "cell_type": "code",
   "execution_count": 76,
   "id": "50e258fa",
   "metadata": {},
   "outputs": [
    {
     "name": "stdout",
     "output_type": "stream",
     "text": [
      "t-statistic: 11.3258\n",
      "p-value: 0.0\n",
      "Significant difference found (p < 0.05). Investigate quality variations.\n"
     ]
    }
   ],
   "source": [
    "import numpy as np\n",
    "from scipy.stats import ttest_ind\n",
    "\n",
    "def analyze_quality_scores(version1_scores, version2_scores):\n",
    "    version1_scores = np.array(version1_scores)\n",
    "    version2_scores = np.array(version2_scores)\n",
    "    t_statistic, p_value = ttest_ind(version1_scores, version2_scores)\n",
    "    if p_value < 0.05: \n",
    "        message = \"Significant difference found (p < 0.05). Investigate quality variations.\"\n",
    "    else:\n",
    "        message = \"Not enough evidence to conclude a significant difference in quality based on p-value.\"\n",
    "\n",
    "    return t_statistic, p_value, message\n",
    "version1_scores = [85, 88, 82, 89, 87, 84, 90, 88, 85, 86, 91, 83, 87, 84, 89, 86, 84, 88, 85, 86, 89, 90, 87, 88, 85]\n",
    "version2_scores = [80, 78, 83, 81, 79, 82, 76, 80, 78, 81, 77, 82, 80, 79, 82, 79, 80, 81, 79, 82, 79, 78, 80, 81, 82]\n",
    "t_statistic, p_value, message = analyze_quality_scores(version1_scores, version2_scores)\n",
    "print(\"t-statistic:\", t_statistic.round(4))\n",
    "print(\"p-value:\", p_value.round(4))\n",
    "print(message)\n"
   ]
  },
  {
   "cell_type": "code",
   "execution_count": null,
   "id": "6c9b00c9",
   "metadata": {},
   "outputs": [],
   "source": [
    "# 20)A restaurant chain collects customer satisfaction scores for two different branches. Write a program to \n",
    "analyze the scores, calculate the t-statistic, and determine if there's a statistically significant difference in \n",
    "customer satisfaction between the branches.\n",
    "Use the below data of scores:\n",
    "```python\n",
    "branch_a_scores = [4, 5, 3, 4, 5, 4, 5, 3, 4, 4, 5, 4, 4, 3, 4, 5, 5, 4, 3, 4, 5, 4, 3, 5, 4, 4, 5, 3, 4, 5, 4]\n",
    "branch_b_scores = [3, 4, 2, 3, 4, 3, 4, 2, 3, 3, 4, 3, 3, 2, 3, 4, 4, 3, 2, 3, 4, 3, 2, 4, 3, 3, 4, 2, 3, 4, 3]"
   ]
  },
  {
   "cell_type": "code",
   "execution_count": 77,
   "id": "34bb7a68",
   "metadata": {},
   "outputs": [
    {
     "name": "stdout",
     "output_type": "stream",
     "text": [
      "t-statistic: 5.4801\n",
      "p-value: 0.0\n",
      "Significant difference found (p < 0.05). Investigate customer satisfaction at each branch.\n"
     ]
    }
   ],
   "source": [
    "import numpy as np\n",
    "from scipy.stats import ttest_ind\n",
    "branch_a_scores = np.array([4, 5, 3, 4, 5, 4, 5, 3, 4, 4, 5, 4, 4, 3, 4, 5, 5, 4, 3, 4, 5, 4, 3, 5, 4, 4, 5, 3, 4, 5, 4])\n",
    "branch_b_scores = np.array([3, 4, 2, 3, 4, 3, 4, 2, 3, 3, 4, 3, 3, 2, 3, 4, 4, 3, 2, 3, 4, 3, 2, 4, 3, 3, 4, 2, 3, 4, 3])\n",
    "t_statistic, p_value = ttest_ind(branch_a_scores, branch_b_scores)\n",
    "print(\"t-statistic:\", t_statistic.round(4))\n",
    "print(\"p-value:\", p_value.round(4))\n",
    "if p_value < 0.05: \n",
    "    print(\"Significant difference found (p < 0.05). Investigate customer satisfaction at each branch.\")\n",
    "else:\n",
    "    print(\"Not enough evidence to conclude a significant difference in satisfaction based on p-value.\")"
   ]
  },
  {
   "cell_type": "code",
   "execution_count": null,
   "id": "41f2a8db",
   "metadata": {},
   "outputs": [],
   "source": [
    "#21)A political analyst wants to determine if there is a significant association between age groups and voter \n",
    "preferences (Candidate A or Candidate B). They collect data from a sample of 500 voters and classify \n",
    "them into diffrent age groups and candidate preferences. Perform a Chi-Square test to determine if\n",
    "there is a significant association between age groups and voter preferences.i\n",
    "Use the below code to generate data:\n",
    "```python\n",
    "np.random.seed(0)\n",
    "age_groups = np.random.choice([ 18 30 , 31 50 , 51+', 51+'], size=30)\n",
    "voter_preferences = np.random.choice(['Candidate A', 'Candidate B'], size=30"
   ]
  },
  {
   "cell_type": "code",
   "execution_count": 86,
   "id": "55aaf45b",
   "metadata": {},
   "outputs": [
    {
     "name": "stdout",
     "output_type": "stream",
     "text": [
      "Chi-Square Statistic: 0.878\n",
      "p-value: 0.6447\n",
      "Degrees of Freedom: 2\n",
      "Not enough evidence to conclude a significant association based on p-value.\n"
     ]
    }
   ],
   "source": [
    "import numpy as np\n",
    "from scipy.stats import chi2_contingency\n",
    "import pandas as pd \n",
    "np.random.seed(0)\n",
    "age_groups = np.random.choice([\"18-30\", \"31-50\", \"51+\"], size=500) \n",
    "voter_preferences = np.random.choice([\"Candidate A\", \"Candidate B\"], size=500)\n",
    "contingency_table = pd.crosstab(age_groups, voter_preferences)\n",
    "chi2_statistic, p_value, degrees_of_freedom, expected_table = chi2_contingency(contingency_table)\n",
    "print(\"Chi-Square Statistic:\", chi2_statistic.round(4))\n",
    "print(\"p-value:\", p_value.round(4))\n",
    "print(\"Degrees of Freedom:\", degrees_of_freedom)\n",
    "if p_value < 0.05:\n",
    "    print(\"Significant association found (p < 0.05) between age groups and voter preferences.\")\n",
    "else:\n",
    "    print(\"Not enough evidence to conclude a significant association based on p-value.\")"
   ]
  },
  {
   "cell_type": "code",
   "execution_count": null,
   "id": "dcd36907",
   "metadata": {},
   "outputs": [],
   "source": [
    "#22)A company conducted a customer satisfaction survey to determine if there is a significant relationship \n",
    "between product satisfaction levels (Satisfied, Neutral, Dissatisfied) and the region where customers are \n",
    "located (East, West, North, South). The survey data is summarized in a contingency table. Conduct a Chi-Square test to determine if there is a significant relationship between product satisfaction levels and \n",
    "customer regions.\n",
    "Sample data:\n",
    "```python\n",
    "#Sample data: Product satisfaction levels (rows) vs. Customer regions (columns)\n",
    "data = np.array([[50, 30, 40, 20], [30, 40, 30, 50], [20, 30, 40, 30]])\n",
    "``"
   ]
  },
  {
   "cell_type": "code",
   "execution_count": 84,
   "id": "be4b8f03",
   "metadata": {},
   "outputs": [
    {
     "name": "stdout",
     "output_type": "stream",
     "text": [
      "Chi-Square Statistic: 27.7771\n",
      "p-value: 0.0001\n",
      "Degrees of Freedom: 6\n",
      "Significant relationship found (p < 0.05) between satisfaction and customer regions.\n"
     ]
    }
   ],
   "source": [
    "import numpy as np\n",
    "from scipy.stats import chi2_contingency\n",
    "data = np.array([[50, 30, 40, 20], [30, 40, 30, 50], [20, 30, 40, 30]])\n",
    "\n",
    "# Perform Chi-Square test\n",
    "chi2_statistic, p_value, degrees_of_freedom, expected_table = chi2_contingency(data)\n",
    "\n",
    "# Print results\n",
    "print(\"Chi-Square Statistic:\", chi2_statistic.round(4))\n",
    "print(\"p-value:\", p_value.round(4))\n",
    "print(\"Degrees of Freedom:\", degrees_of_freedom)\n",
    "\n",
    "if p_value < 0.05:  # Assuming significance level of 0.05\n",
    "    print(\"Significant relationship found (p < 0.05) between satisfaction and customer regions.\")\n",
    "else:\n",
    "    print(\"Not enough evidence to conclude a significant relationship based on p-value.\")\n",
    "\n",
    "# Optional: Print expected table for comparison (uncomment if interested)\n",
    "# print(\"\\nExpected Table:\\n\", expected_table.round(2))\n"
   ]
  },
  {
   "cell_type": "code",
   "execution_count": null,
   "id": "e6a66956",
   "metadata": {},
   "outputs": [],
   "source": [
    "#23) A company implemented an employee training program to improve job performance (Effective, Neutral, \n",
    "Ineffective). After the training, they collected data from a sample of employees and classified them based \n",
    "on their job performance before and after the training. Perform a Chi-Square test to determine if there is a \n",
    "significant difference between job performance levels before and after the training.\n",
    "Sample data:\n",
    "```python\n",
    "# Sample data: Job performance levels before (rows) and after (columns) training\n",
    "data = np.array([[50, 30, 20], [30, 40, 30], [20, 30, 40]])\n",
    "``"
   ]
  },
  {
   "cell_type": "code",
   "execution_count": 88,
   "id": "905971cc",
   "metadata": {},
   "outputs": [
    {
     "name": "stdout",
     "output_type": "stream",
     "text": [
      "Chi-Square Statistic: 22.1617\n",
      "p-value: 0.0002\n",
      "Degrees of Freedom: 4\n",
      "Significant difference found (p < 0.05) in job performance before and after training.\n"
     ]
    }
   ],
   "source": [
    "import numpy as np\n",
    "from scipy.stats import chi2_contingency\n",
    "data = np.array([[50, 30, 20], [30, 40, 30], [20, 30, 40]])\n",
    "chi2_statistic, p_value, degrees_of_freedom, expected_table = chi2_contingency(data)\n",
    "print(\"Chi-Square Statistic:\", chi2_statistic.round(4))\n",
    "print(\"p-value:\", p_value.round(4))\n",
    "print(\"Degrees of Freedom:\", degrees_of_freedom)\n",
    "if p_value < 0.05:  \n",
    "    print(\"Significant difference found (p < 0.05) in job performance before and after training.\")\n",
    "else:\n",
    "    print(\"Not enough evidence to conclude a significant difference based on p-value.\")"
   ]
  },
  {
   "cell_type": "code",
   "execution_count": null,
   "id": "090f47b8",
   "metadata": {},
   "outputs": [],
   "source": [
    "# 24) A company produces three different versions of a product: Standard, Premium, and Deluxe. The \n",
    "company wants to determine if there is a significant difference in customer satisfaction scores among the \n",
    "three product versions. They conducted a survey and collected customer satisfaction scores for each \n",
    "version from a random sample of customers. Perform an ANOVA test to determine if there is a significant \n",
    "difference in customer satisfaction scores.\n",
    "Use the following data:\n",
    "'``python\n",
    "# Sample data: Customer satisfaction scores for each product version\n",
    "standard_scores = [80, 85, 90, 78, 88, 82, 92, 78, 85, 87]\n",
    "premium_scores = [90, 92, 88, 92, 95, 91, 96, 93, 89, 93]\n",
    "deluxe_scores = [95, 98, 92, 97, 96, 94, 98, 97, 92, 99]"
   ]
  },
  {
   "cell_type": "code",
   "execution_count": 94,
   "id": "ed53997e",
   "metadata": {},
   "outputs": [
    {
     "name": "stdout",
     "output_type": "stream",
     "text": [
      "F-Statistic: 27.0356\n",
      "p-value: 0.0\n",
      "Significant difference found (p < 0.05) in customer satisfaction scores.\n",
      "Conduct post-hoc tests to identify which versions differ significantly.\n"
     ]
    }
   ],
   "source": [
    "import numpy as np\n",
    "from scipy.stats import f_oneway\n",
    "standard_scores = np.array([80, 85, 90, 78, 88, 82, 92, 78, 85, 87])\n",
    "premium_scores = np.array([90, 92, 88, 92, 95, 91, 96, 93, 89, 93])\n",
    "deluxe_scores = np.array([95, 98, 92, 97, 96, 94, 98, 97, 92, 99])\n",
    "data = np.array([standard_scores, premium_scores, deluxe_scores])\n",
    "f_statistic, p_value = f_oneway(*data)\n",
    "print(\"F-Statistic:\", f_statistic.round(4))\n",
    "print(\"p-value:\", p_value.round(4))\n",
    "if p_value < 0.05:  \n",
    "    print(\"Significant difference found (p < 0.05) in customer satisfaction scores.\")\n",
    "    print(\"Conduct post-hoc tests to identify which versions differ significantly.\")\n",
    "else:\n",
    "    print(\"Not enough evidence to conclude a significant difference in satisfaction based on p-value.\")"
   ]
  },
  {
   "cell_type": "code",
   "execution_count": null,
   "id": "fc597743",
   "metadata": {},
   "outputs": [],
   "source": []
  }
 ],
 "metadata": {
  "kernelspec": {
   "display_name": "Python 3 (ipykernel)",
   "language": "python",
   "name": "python3"
  },
  "language_info": {
   "codemirror_mode": {
    "name": "ipython",
    "version": 3
   },
   "file_extension": ".py",
   "mimetype": "text/x-python",
   "name": "python",
   "nbconvert_exporter": "python",
   "pygments_lexer": "ipython3",
   "version": "3.10.9"
  }
 },
 "nbformat": 4,
 "nbformat_minor": 5
}
